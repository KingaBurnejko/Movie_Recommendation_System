{
 "cells": [
  {
   "attachments": {},
   "cell_type": "markdown",
   "metadata": {},
   "source": [
    "# System rekomendacyjny dla filmów\n",
    "\n",
    "Celem tego projektu jest stworzenie systemu rekomendacyjnego dla wyszukiwarki filmów. Przedstawmy sytuację: klient zwraca się do nas z prośbą o polecenie filmu do obejrzenia, ale nie jest pewien, jaki konkretnie wybrać.\n",
    "\n",
    "W naszym systemie rekomendacyjnym opieramy się na idei filtrowania kolaboratywnego (ang. collaborative filtering).\n",
    "\n",
    "## Idea filtrowania kolaboratywnego\n",
    "\n",
    "Podczas wyboru filmu, który może spodobać się naszemu użytkownikowi, musimy zastanowić się, jakie dane mamy do dyspozycji. Przede wszystkim posiadamy informacje na temat ocen, które nasz użytkownik wystawiał filmom, które już obejrzał. Warto zaznaczyć, że nie posiadamy informacji o wszystkich filmach w naszej bazie danych, lecz najczęściej mamy dostęp tylko do niewielkiego podzbioru kilku lub kilkunastu filmów. Dzięki temu możemy dowiedzieć się, które filmy podobały się naszemu użytkownikowi, a które nie.\n",
    "\n",
    "Dodatkowo, posiadamy również informacje o preferencjach innych użytkowników. Możemy więc znaleźć w danych grupę użytkowników, którzy mają podobny gust filmowy do naszego użytkownika. Warto zauważyć, że praktycznie każdy z tych innych użytkowników obejrzał filmy, których nasz użytkownik jeszcze nie widział. Idea filtrowania kolaboratywnego jest prosta: jeśli inny użytkownik o podobnych gustach wysoko ocenił jakiś film, to nasz użytkownik prawdopodobnie też go wysoko oceni. Zatem rekomendujemy filmy, które użytkownicy o podobnych gustach wysoko ocenili.\n",
    "\n",
    "### Wstępna eksploracja danych\n",
    "Wczytujemy zawartość pliku, który zawiera dane oraz wyświetlamy zawartość wczytanej ramki."
   ]
  },
  {
   "cell_type": "code",
   "execution_count": 1,
   "metadata": {
    "collapsed": false
   },
   "outputs": [
    {
     "name": "stdout",
     "output_type": "stream",
     "text": [
      "                                                filmy  1648  5136  918  2824   \n",
      "0       11: Star Wars: Episode IV - A New Hope (1977)   NaN   4.5  5.0   4.5  \\\n",
      "1                             12: Finding Nemo (2003)   NaN   5.0  5.0   NaN   \n",
      "2                             13: Forrest Gump (1994)   NaN   5.0  4.5   5.0   \n",
      "3                          14: American Beauty (1999)   NaN   4.0  NaN   NaN   \n",
      "4   22: Pirates of the Caribbean: The Curse of the...   4.0   5.0  3.0   4.5   \n",
      "..                                                ...   ...   ...  ...   ...   \n",
      "94                              9802: The Rock (1996)   5.0   NaN  NaN   NaN   \n",
      "95                       9806: The Incredibles (2004)   3.5   5.0  3.5   NaN   \n",
      "96                 10020: Beauty and the Beast (1991)   3.0   5.0  NaN   NaN   \n",
      "97                                36657: X-Men (2000)   NaN   4.5  NaN   NaN   \n",
      "98                     36658: X2: X-Men United (2003)   3.5   4.0  NaN   NaN   \n",
      "\n",
      "    3867  860  3712  2968  3525  ...  3556  5261  2492  5062  2486  4942   \n",
      "0    4.0  4.0   NaN   5.0   4.0  ...   4.0   NaN   4.5   4.0   3.5   NaN  \\\n",
      "1    4.0  4.0   4.5   4.5   4.0  ...   4.0   NaN   3.5   4.0   2.0   3.5   \n",
      "2    4.5  4.5   NaN   5.0   4.5  ...   4.0   5.0   3.5   4.5   4.5   4.0   \n",
      "3    NaN  NaN   4.5   2.0   3.5  ...   4.0   NaN   3.5   4.5   3.5   4.0   \n",
      "4    4.0  2.5   NaN   5.0   3.0  ...   3.0   1.5   4.0   4.0   2.5   3.5   \n",
      "..   ...  ...   ...   ...   ...  ...   ...   ...   ...   ...   ...   ...   \n",
      "94   NaN  3.5   4.0   5.0   2.5  ...   3.0   NaN   3.5   NaN   2.5   5.0   \n",
      "95   3.0  3.5   4.5   5.0   3.5  ...   3.5   0.5   5.0   3.5   3.0   NaN   \n",
      "96   4.0  3.5   NaN   2.0   4.0  ...   4.0   NaN   4.0   2.0   2.5   NaN   \n",
      "97   4.0  NaN   4.5   5.0   4.0  ...   3.5   NaN   3.0   4.0   3.5   NaN   \n",
      "98   3.5  NaN   4.5   4.5   4.0  ...   3.5   NaN   2.0   NaN   3.0   4.0   \n",
      "\n",
      "    2267  4809  3853  2288  \n",
      "0    NaN   NaN   NaN   NaN  \n",
      "1    NaN   NaN   NaN   3.5  \n",
      "2    3.5   4.5   3.5   3.5  \n",
      "3    NaN   3.5   NaN   NaN  \n",
      "4    NaN   5.0   NaN   3.5  \n",
      "..   ...   ...   ...   ...  \n",
      "94   NaN   NaN   NaN   4.0  \n",
      "95   NaN   4.5   NaN   3.5  \n",
      "96   NaN   4.0   NaN   NaN  \n",
      "97   NaN   NaN   3.0   4.0  \n",
      "98   NaN   3.5   NaN   4.0  \n",
      "\n",
      "[99 rows x 26 columns]\n"
     ]
    }
   ],
   "source": [
    "import pandas as pd\n",
    "import numpy as np\n",
    "\n",
    "df = pd.read_csv('filmy.csv', sep=';', decimal=',')\n",
    "\n",
    "print(df)"
   ]
  },
  {
   "attachments": {},
   "cell_type": "markdown",
   "metadata": {},
   "source": [
    "Wypiszmy nazwy kolumn ramki danych (oprócz pierwszej), aby poznać ID użytkowników w bazie danych."
   ]
  },
  {
   "cell_type": "code",
   "execution_count": 4,
   "metadata": {
    "collapsed": false
   },
   "outputs": [
    {
     "name": "stdout",
     "output_type": "stream",
     "text": [
      "Index(['1648', '5136', '918', '2824', '3867', '860', '3712', '2968', '3525',\n",
      "       '4323', '3617', '4360', '2756', '89', '442', '3556', '5261', '2492',\n",
      "       '5062', '2486', '4942', '2267', '4809', '3853', '2288'],\n",
      "      dtype='object')\n"
     ]
    }
   ],
   "source": [
    "column_names = df.columns[1:]\n",
    "print(column_names)"
   ]
  },
  {
   "attachments": {},
   "cell_type": "markdown",
   "metadata": {},
   "source": [
    "Wyświetlmy kolumnę danych z ocenami filmów konkretnego użytkownika."
   ]
  },
  {
   "cell_type": "code",
   "execution_count": 5,
   "metadata": {
    "collapsed": false
   },
   "outputs": [
    {
     "name": "stdout",
     "output_type": "stream",
     "text": [
      "0     4.5\n",
      "1     5.0\n",
      "2     5.0\n",
      "3     4.0\n",
      "4     5.0\n",
      "     ... \n",
      "94    NaN\n",
      "95    5.0\n",
      "96    5.0\n",
      "97    4.5\n",
      "98    4.0\n",
      "Name: 5136, Length: 99, dtype: float64\n"
     ]
    }
   ],
   "source": [
    "user_id = 5136 # np. dla użytkownika o id 5136\n",
    "ratings_column = df[str(user_id)]\n",
    "print(ratings_column)"
   ]
  },
  {
   "attachments": {},
   "cell_type": "markdown",
   "metadata": {},
   "source": [
    "### Znajdowanie użytkowników o podobnych gustach\n",
    "\n",
    "Spróbujemy teraz wypracować rekomendacje dla użytkownika o danym id. \n",
    "\n",
    "Zacznijmy od policzenia korelacji ocen tego użytkownika z innym użytkownikiem funkcją `pearsonr`.\n",
    "\n",
    "Funkcja `pearsonr` zwraca krotkę dwóch wartości. Pierwsza wartość to korelacja, druga to wynik testu istotności. W tym ćwiczeniu wynik testu statystycznego zostanie pominięty."
   ]
  },
  {
   "cell_type": "code",
   "execution_count": 2,
   "metadata": {
    "collapsed": false
   },
   "outputs": [
    {
     "name": "stdout",
     "output_type": "stream",
     "text": [
      "Korelacja (przy uwzględnieniu pustych pól) między użytkownikiem o id 89 i użytkownikiem o id 3867 wynosi w zaokrągleniu: 0.267\n"
     ]
    }
   ],
   "source": [
    "from scipy.stats import pearsonr \n",
    "\n",
    "user1_id = 89 # id użytkownika, dla którego tworzymy rekomendację \n",
    "user2_id = 3867\n",
    "\n",
    "user1_ratings = np.nan_to_num(df[str(user1_id)])\n",
    "user2_ratings = np.nan_to_num(df[str(user2_id)])\n",
    "\n",
    "correlation, _ = pearsonr(user1_ratings, user2_ratings)\n",
    "\n",
    "print(\"Korelacja (przy uwzględnieniu pustych pól) między użytkownikiem o id\", user1_id, \"i użytkownikiem o id\", user2_id, \"wynosi w zaokrągleniu:\", round(correlation, 3))"
   ]
  },
  {
   "attachments": {},
   "cell_type": "markdown",
   "metadata": {},
   "source": [
    "Niestety nie udało się uzyskać oczekiwanego wyniku, ponieważ niektóre z wartości w kolumnach są puste. Wynika to z faktu, że dani użytkownicy nie oglądali wszystkich filmów w bazie danych, a jedynie niektóre z nich.\n",
    "Musimy przeiterować po wartościach kolumn, zachować tylko te filmy do których mamy oceny i na tak ograniczonym zbiorze policzyć korelację."
   ]
  },
  {
   "cell_type": "code",
   "execution_count": 3,
   "metadata": {
    "collapsed": false
   },
   "outputs": [
    {
     "name": "stdout",
     "output_type": "stream",
     "text": [
      "Korelacja (przy ograniczonym zbiorze) między użytkownikiem o id 89 i użytkownikiem o id 3867 wynosi w zaokrągleniu: -0.004\n"
     ]
    }
   ],
   "source": [
    "def cor(col1, col2):\n",
    "    valid_indices = np.logical_and(~np.isnan(col1), ~np.isnan(col2))\n",
    "    valid_col1 = col1[valid_indices]\n",
    "    valid_col2 = col2[valid_indices]\n",
    "    correlation, _ = pearsonr(valid_col1, valid_col2)\n",
    "    return correlation\n",
    "\n",
    "user1_id = 89\n",
    "user2_id = 3867\n",
    "\n",
    "user1_ratings = df[str(user1_id)]\n",
    "user2_ratings = df[str(user2_id)]\n",
    "\n",
    "correlation = cor(user1_ratings, user2_ratings)\n",
    "\n",
    "print(\"Korelacja (przy ograniczonym zbiorze) między użytkownikiem o id\", user1_id, \"i użytkownikiem o id\", user2_id, \"wynosi w zaokrągleniu:\", round(correlation, 3))"
   ]
  },
  {
   "attachments": {},
   "cell_type": "markdown",
   "metadata": {},
   "source": [
    "Napiszmy teraz funkcję, która dla danego użytkownika znajduje 5 najbardziej skorelowanych (podobnych) użytkowników. Wyjściem funkcji jest lista par (korelacja, id użytkownika)."
   ]
  },
  {
   "cell_type": "code",
   "execution_count": 4,
   "metadata": {
    "collapsed": false
   },
   "outputs": [
    {
     "name": "stdout",
     "output_type": "stream",
     "text": [
      "Najbardziej skorelowani użytkownicy dla użytkownika o id 860\n",
      "Id użytkownika: 89 --> Korelacja w zaokrągleniu: 0.539\n",
      "Id użytkownika: 1648 --> Korelacja w zaokrągleniu: 0.481\n",
      "Id użytkownika: 918 --> Korelacja w zaokrągleniu: 0.468\n",
      "Id użytkownika: 5261 --> Korelacja w zaokrągleniu: 0.399\n",
      "Id użytkownika: 3525 --> Korelacja w zaokrągleniu: 0.388\n"
     ]
    }
   ],
   "source": [
    "def get_users(df, user):\n",
    "    user_ratings = df[str(user)]\n",
    "    correlations = []\n",
    "    \n",
    "    for column in df.columns[1:]:\n",
    "        if column != str(user):\n",
    "            other_user_ratings = df[column]\n",
    "            correlation = cor(user_ratings, other_user_ratings)\n",
    "            correlations.append((correlation, int(column)))\n",
    "    \n",
    "    correlations.sort(reverse=True)\n",
    "    top_users = correlations[:5]\n",
    "    \n",
    "    return top_users\n",
    "\n",
    "user_id = 860 # id uzytkownika, dla którego szukamy 5 najbardziej skolerowanych.\n",
    "top_users = get_users(df, user_id)\n",
    "\n",
    "print(\"Najbardziej skorelowani użytkownicy dla użytkownika o id\", user_id)\n",
    "for correlation, user in top_users:\n",
    "    print(\"Id użytkownika:\", user, \"--> Korelacja w zaokrągleniu:\", round(correlation, 3))"
   ]
  },
  {
   "attachments": {},
   "cell_type": "markdown",
   "metadata": {},
   "source": [
    "### Predykcja oceny filmu\n",
    "\n",
    "Zaproponuję teraz funkcję, która zwróci listę par (przewidywana ocena, film), gdzie przewidywana ocena jest obliczana jako średnia ważona ocen podobnych użytkowników, z wagami odpowiadającymi podobieństwu (korelacji) między nimi.\n",
    "\n",
    "Wzór na predykcję oceny naszego użytkownika do $j$-tego filmu:\n",
    "$$\\hat{y_j} = \\frac{\\sum_{i \\in U} w_iy_{ij}}{\\sum_{i \\in U} w_i}$$\n",
    "gdzie \n",
    "$U$ zawiera indeksy podobnych użytkowników, którzy ocenili $j$-ty film,  \n",
    "$y_{ij}$ to ocena $j$-tego filmu przez $i$-tego użytkownika,  \n",
    "$w_i$ to podobieństwo (korelacja) $i$-tego użytkownika do analizowanego użytkownika."
   ]
  },
  {
   "cell_type": "code",
   "execution_count": 18,
   "metadata": {
    "collapsed": false
   },
   "outputs": [],
   "source": [
    "def get_marks(df, user):\n",
    "    user_ratings = df[str(user)]\n",
    "    similar_users = get_users(df, user)\n",
    "    marks = []\n",
    "    \n",
    "    for index, row in df.iterrows():\n",
    "        film_id = row['filmy']\n",
    "        if np.isnan(user_ratings[index]):\n",
    "            weighted_sum = 0\n",
    "            similarity_sum = 0\n",
    "            \n",
    "            for correlation, similar_user in similar_users:\n",
    "                similar_user_ratings = df[str(similar_user)]\n",
    "                \n",
    "                if not np.isnan(similar_user_ratings[index]):\n",
    "                    weighted_sum += correlation * similar_user_ratings[index]\n",
    "                    similarity_sum += correlation\n",
    "            \n",
    "            if similarity_sum > 0:\n",
    "                estimated_rating = weighted_sum / similarity_sum\n",
    "                marks.append((estimated_rating, film_id))\n",
    "    \n",
    "    marks.sort(reverse=True)\n",
    "    return marks"
   ]
  },
  {
   "attachments": {},
   "cell_type": "markdown",
   "metadata": {},
   "source": [
    "Wywołajmy teraz napisaną funkcję dla konkretnego użytkonika, aby zobaczyć, jakie filmy powinniśmy zaproponować temu użytkownikowi."
   ]
  },
  {
   "cell_type": "code",
   "execution_count": 20,
   "metadata": {
    "collapsed": false
   },
   "outputs": [
    {
     "name": "stdout",
     "output_type": "stream",
     "text": [
      "Estymacja oceny filmów dla użytkownika o id 89\n",
      "Film: 807: Seven (a.k.a. Se7en) (1995) --> Estymacja oceny w zaokrągleniu: 4.77409\n",
      "Film: 424: Schindler's List (1993) --> Estymacja oceny w zaokrągleniu: 4.72906\n",
      "Film: 122: The Lord of the Rings: The Return of the King (2003) --> Estymacja oceny w zaokrągleniu: 4.69596\n"
     ]
    }
   ],
   "source": [
    "user_id = 89\n",
    "estimated_marks = get_marks(df, user_id)\n",
    "\n",
    "print(\"Estymacja oceny filmów dla użytkownika o id\", user_id)\n",
    "for i, (estimated_rating, film) in enumerate(estimated_marks):\n",
    "    print(\"Film:\", film, \"--> Estymacja oceny w zaokrągleniu:\", round(estimated_rating, 5))\n",
    "    if i == 2:  # Wyświetl tylko pierwsze 3 rekordy\n",
    "        break"
   ]
  },
  {
   "attachments": {},
   "cell_type": "markdown",
   "metadata": {},
   "source": [
    "## Podsumowanie projektu i wnioski\n",
    "\n",
    "W ramach tego projektu udało nam się stworzyć własny system rekomendacyjny filmów, który opiera się na ocenach innych użytkowników oraz korelacji między nimi. Dzięki temu systemowi możemy otrzymywać rekomendacje filmowe, które najprawdopodobniej będą nam odpowiadać.\n",
    "\n",
    "Jednakże, implementacja tego systemu w rzeczywistości wiąże się z pewnymi trudnościami i wymaganiami. Jednym z głównych wyzwań jest zebranie odpowiedniego zbioru danych. Aby system działał efektywnie, potrzebujemy jak największej ilości danych, co może być trudne do osiągnięcia.\n",
    "\n",
    "Ważne aspekty do uwzględnienia podczas implementacji takiego systemu to prywatność i bezpieczeństwo danych. Musimy zapewnić odpowiednie zabezpieczenia danych użytkowników i zagwarantować im, że ich prywatność nie będzie naruszona.\n",
    "\n",
    "Ponadto, warto zauważyć, że brak początkowej bazy danych stanowi kolejne wyzwanie. Dopiero w miarę rozwoju systemu i zebrania odpowiedniej ilości danych od użytkowników będziemy mieli satysfakcjonujące wyniki rekomendacji.\n",
    "\n",
    "Ważne jest również zrozumienie, że choć obliczyliśmy, jak bardzo użytkownik może polubić dany film na podstawie podobieństwa gustów, nie oznacza to automatycznie, że oceni go tak samo w rzeczywistości. Indywidualne preferencje użytkowników mogą wpływać na ostateczną ocenę filmu."
   ]
  }
 ],
 "metadata": {
  "kernelspec": {
   "display_name": "Python 3",
   "language": "python",
   "name": "python3"
  },
  "language_info": {
   "codemirror_mode": {
    "name": "ipython",
    "version": 3
   },
   "file_extension": ".py",
   "mimetype": "text/x-python",
   "name": "python",
   "nbconvert_exporter": "python",
   "pygments_lexer": "ipython3",
   "version": "3.9.7"
  }
 },
 "nbformat": 4,
 "nbformat_minor": 0
}
